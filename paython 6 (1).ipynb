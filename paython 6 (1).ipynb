{
 "cells": [
  {
   "cell_type": "markdown",
   "id": "34c9fdc8-7d97-43eb-b631-4e9127679267",
   "metadata": {},
   "source": [
    "Create a binary tree class that accepts 1.Insertion  2.Deletion"
   ]
  },
  {
   "cell_type": "code",
   "execution_count": 23,
   "id": "735385ef-537f-4d57-b8e0-7795101dc7bb",
   "metadata": {},
   "outputs": [],
   "source": [
    "class MyTree:\n",
    "    class TreeNode:\n",
    "        def __init__(self,data):\n",
    "            self.data = data\n",
    "            self.left = None\n",
    "            self.right = None\n",
    "           \n",
    "    def __init__(self):\n",
    "        self.root = None\n",
    "    def insert(self,data):\n",
    "        new_node = MyTree.TreeNode(data)\n",
    "        if self.root==None:\n",
    "            self.root = new_node\n",
    "            return\n",
    "        current =self.root\n",
    "        while True:\n",
    "            if data<current.data:\n",
    "                if current.left is None:\n",
    "                    current.left = new_node\n",
    "                    break\n",
    "                else:\n",
    "                    current = current.left\n",
    "            else:\n",
    "                if current.right is None:\n",
    "                    current.right = new_node\n",
    "                    break\n",
    "                else:\n",
    "                    current=current.right\n",
    "    def search(self,val):\n",
    "        current = self.root\n",
    "        while current:\n",
    "            if current.data==val:\n",
    "                return True\n",
    "                break\n",
    "            elif val<current.data:\n",
    "                current = current.left\n",
    "            else:\n",
    "                current=current.right\n",
    "            return False\n",
    "    def in_order_traversal(self,node):\n",
    "        if node:\n",
    "            self.in_order_traversal(node.left)\n",
    "            print(node.data,end=' ')\n",
    "            self.in_order_traversal(node.right)\n",
    "    def pre_order_traversal(self,node):\n",
    "        if node:\n",
    "            print(node.data,end=' ')\n",
    "            self.pre_order_traversal(node.left)\n",
    "            self.pre_order_traversal(node.right)\n",
    "    def post_order_traversal(self,node):\n",
    "        if node:\n",
    "            self.post_order_traversal(node.left)\n",
    "            self.post_order_traversal(node.right)\n",
    "            print(node.data, end='')      "
   ]
  },
  {
   "cell_type": "code",
   "execution_count": 24,
   "id": "4d40a013-d44c-4fc7-85e4-4e9e21571aa4",
   "metadata": {},
   "outputs": [],
   "source": [
    "ll=MyTree()"
   ]
  },
  {
   "cell_type": "code",
   "execution_count": 25,
   "id": "42dd3e99-ad64-4306-95cb-3885bb51cd41",
   "metadata": {},
   "outputs": [
    {
     "name": "stdout",
     "output_type": "stream",
     "text": [
      "7 9 10 11 12 "
     ]
    }
   ],
   "source": [
    "ll=MyTree()\n",
    "ll.insert(11)\n",
    "ll.insert(9)\n",
    "ll.insert(12)\n",
    "ll.insert(7)\n",
    "ll.insert(10)\n",
    "ll.search(18)\n",
    "ll.in_order_traversal(ll.root)\n",
    "ll.pre_order_traversal(ll.root)\n",
    "ll.post_\n"
   ]
  },
  {
   "cell_type": "code",
   "execution_count": 23,
   "id": "ebb06553-0f51-44a2-9356-ca794899282f",
   "metadata": {},
   "outputs": [],
   "source": [
    "def rats(r,unit,arr):\n",
    "    if len(arr)==0:\n",
    "        return -1\n",
    "    totalfood=r*unit\n",
    "    foodsofar = 0\n",
    "    for i in range(len(arr)):\n",
    "        foodsofar = foodsofar + arr[i]\n",
    "        if foodsofar >= totalfood:\n",
    "            print(i+1)\n",
    "            break\n",
    "    return 0\n",
    "    "
   ]
  },
  {
   "cell_type": "code",
   "execution_count": 24,
   "id": "dbada314-cf1c-495d-9ac0-248705459c5c",
   "metadata": {},
   "outputs": [
    {
     "name": "stdout",
     "output_type": "stream",
     "text": [
      "3\n"
     ]
    },
    {
     "data": {
      "text/plain": [
       "0"
      ]
     },
     "execution_count": 24,
     "metadata": {},
     "output_type": "execute_result"
    }
   ],
   "source": [
    "arr= [12,2,4,5]\n",
    "rats(5,3,arr)"
   ]
  },
  {
   "cell_type": "markdown",
   "id": "9fb5e2f0-bbf2-4750-aeaa-c515f7724ba1",
   "metadata": {},
   "source": [
    "Take a number from the users and print all the factors (that number is divisible by)of the number."
   ]
  },
  {
   "cell_type": "code",
   "execution_count": null,
   "id": "87a9ca43-dec9-4dbb-9d43-97990680599a",
   "metadata": {},
   "outputs": [],
   "source": []
  }
 ],
 "metadata": {
  "kernelspec": {
   "display_name": "Python 3 (ipykernel)",
   "language": "python",
   "name": "python3"
  },
  "language_info": {
   "codemirror_mode": {
    "name": "ipython",
    "version": 3
   },
   "file_extension": ".py",
   "mimetype": "text/x-python",
   "name": "python",
   "nbconvert_exporter": "python",
   "pygments_lexer": "ipython3",
   "version": "3.11.7"
  }
 },
 "nbformat": 4,
 "nbformat_minor": 5
}
