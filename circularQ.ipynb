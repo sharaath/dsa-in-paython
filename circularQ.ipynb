{
 "cells": [
  {
   "cell_type": "markdown",
   "id": "0cd20ee0-ce0c-4eda-b3f5-170ccc1f65ab",
   "metadata": {},
   "source": [
    "Circular queue implementation with a fixed size"
   ]
  },
  {
   "cell_type": "markdown",
   "id": "5f80819b-a4b4-4883-bfa4-9156e7ec5e70",
   "metadata": {},
   "source": [
    "\n",
    "1.Initilization\n",
    "    -size\n",
    "    -Front pointer(exit)\n",
    "    -Rear pointer (entry)\n",
    "    -Queue (list)\n",
    "2.Enqueue:\n",
    "    -Queue is full(rear+1==front)\n",
    "    -First element (rear = front=0),then append\n",
    "    -Entering anywhere expect at the beginning(rear = rear+1%size ),then append"
   ]
  },
  {
   "cell_type": "code",
   "execution_count": 1,
   "id": "4f2fef87-0bd2-4903-a3bd-b9763c4fa7ef",
   "metadata": {},
   "outputs": [],
   "source": [
    "class circularQ:\n",
    "    def __init__(self,size):\n",
    "        self.size = size\n",
    "        self.front = self.rear = -1\n",
    "        self.queue = [None]*size\n",
    "    def enequeue(self,data):\n",
    "        if(self.rear+1)%self.size==self.front:\n",
    "            print(\"queue is Full\")\n",
    "        elif self.front==-1:\n",
    "            self.front=self.rear=0\n",
    "            self.queue[self.rear]=data\n",
    "        else:\n",
    "            self.rear = (self.rear+1)%self.size\n",
    "            self.queue[self.rear]=data\n",
    "    def dequeue(self):\n",
    "        if self.front==-1:\n",
    "            print(\"queue is empty\")\n",
    "            \n",
    "        elif self.front == self.rear:\n",
    "            self.front=self.rear == -1\n",
    "            \n",
    "        else:\n",
    "            self.front = (self.front+1)%self.size\n",
    "    def display(self):\n",
    "        if self.front== -1:\n",
    "            print(\"queue is empty\")\n",
    "            return\n",
    "        i = self.front\n",
    "        while True:\n",
    "            print(self.queue[i])\n",
    "            if i == self.rear:\n",
    "                break\n",
    "            i = (i+1)%self.size\n",
    "            \n",
    "            \n",
    "        \n",
    "            \n",
    "        \n",
    "            "
   ]
  },
  {
   "cell_type": "code",
   "execution_count": 2,
   "id": "9311c0b2-eb7d-4cbf-85bd-a97350a26284",
   "metadata": {},
   "outputs": [
    {
     "name": "stdout",
     "output_type": "stream",
     "text": [
      "queue is Full\n"
     ]
    }
   ],
   "source": [
    "ll=circularQ(3)\n",
    "ll.enequeue(7)\n",
    "ll.enequeue(45)\n",
    "ll.enequeue(18)\n",
    "ll.enequeue(11)\n"
   ]
  },
  {
   "cell_type": "code",
   "execution_count": 4,
   "id": "148fa6bb-50ba-4149-a19b-eb40a6ce2a6b",
   "metadata": {},
   "outputs": [
    {
     "name": "stdout",
     "output_type": "stream",
     "text": [
      "7\n",
      "45\n",
      "18\n"
     ]
    }
   ],
   "source": [
    "ll.display()"
   ]
  },
  {
   "cell_type": "code",
   "execution_count": 5,
   "id": "07f2af78-d920-4ea8-a239-06dc5eec5dfe",
   "metadata": {},
   "outputs": [],
   "source": [
    "def a(n,m):\n",
    "    a=0\n",
    "    b=0\n",
    "    i=1\n",
    "    for i in range(m+1):\n",
    "        if i %n==0:\n",
    "            b=b+i\n",
    "        else:\n",
    "            a=a+i\n",
    "    print(a)\n",
    "    print(b)\n",
    "    c=a-b\n",
    "    print(\"the sum value is\",c)"
   ]
  },
  {
   "cell_type": "code",
   "execution_count": 6,
   "id": "f3332abf-743d-4cff-8ac9-3eb3d1b9781e",
   "metadata": {},
   "outputs": [
    {
     "name": "stdout",
     "output_type": "stream",
     "text": [
      "150\n",
      "60\n",
      "the sum value is 90\n"
     ]
    }
   ],
   "source": [
    "m=20\n",
    "n=4\n",
    "a(n,m)"
   ]
  },
  {
   "cell_type": "code",
   "execution_count": 5,
   "id": "94bb4e40-4077-422e-ba1b-73d81b301d43",
   "metadata": {},
   "outputs": [],
   "source": [
    "def checkpassword(str,n):\n",
    "    if len(str)<4:\n",
    "        return 0\n",
    "    if str.isdigit():\n",
    "        return 0\n",
    "    if str.isupper():\n",
    "        return 0\n",
    "    if str.isspace() or str=='/':\n",
    "        return 0\n",
    "    return 1\n",
    "        \n",
    "        \n",
    "        "
   ]
  },
  {
   "cell_type": "code",
   "execution_count": 7,
   "id": "28e75fe8-61b0-4d26-bcb7-7d6238e355a9",
   "metadata": {},
   "outputs": [
    {
     "name": "stdout",
     "output_type": "stream",
     "text": [
      "1\n"
     ]
    }
   ],
   "source": [
    "print(checkpassword(\"passward1\",10))"
   ]
  },
  {
   "cell_type": "code",
   "execution_count": null,
   "id": "8d9b2a98-730c-4857-88d7-15d683c5c17c",
   "metadata": {},
   "outputs": [],
   "source": []
  }
 ],
 "metadata": {
  "kernelspec": {
   "display_name": "Python 3 (ipykernel)",
   "language": "python",
   "name": "python3"
  },
  "language_info": {
   "codemirror_mode": {
    "name": "ipython",
    "version": 3
   },
   "file_extension": ".py",
   "mimetype": "text/x-python",
   "name": "python",
   "nbconvert_exporter": "python",
   "pygments_lexer": "ipython3",
   "version": "3.11.7"
  }
 },
 "nbformat": 4,
 "nbformat_minor": 5
}
