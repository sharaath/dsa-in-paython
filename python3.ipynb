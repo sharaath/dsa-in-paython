{
 "cells": [
  {
   "cell_type": "code",
   "execution_count": 1,
   "id": "9351e13a-f5f6-44a6-865d-5b71b67179a5",
   "metadata": {},
   "outputs": [],
   "source": [
    "class Node:\n",
    "    def __init__(self,data):\n",
    "        self.data = None\n",
    "        self.next = None"
   ]
  },
  {
   "cell_type": "code",
   "execution_count": 14,
   "id": "28033dc3-a90f-4b6e-b316-f0894a9d1ad9",
   "metadata": {},
   "outputs": [],
   "source": [
    "class Mylinkedlist: \n",
    "    def __init__(self):#called everytime an object is created for this class\n",
    "        self.head = None"
   ]
  },
  {
   "cell_type": "code",
   "execution_count": 8,
   "id": "7a3e7fc6-b092-4436-bd86-9a7a09549243",
   "metadata": {},
   "outputs": [],
   "source": [
    "def insert_begining(self,data):\n",
    "    new_nd=Node(data)\n",
    "    new_nd.next=self.head# next node of new node is currrent head \n",
    "    self.head = new_nd#head is assigned sa new node"
   ]
  },
  {
   "cell_type": "code",
   "execution_count": 9,
   "id": "8dbeffc9-a4e0-45a2-b19c-da0570821b66",
   "metadata": {},
   "outputs": [],
   "source": [
    "def insertend(self,data):\n",
    "    nd1 = Node(data)\n",
    "    if self.head == None:\n",
    "        self.head = nd1\n",
    "        return\n",
    "    currrent = self.head\n",
    "    while current.next:\n",
    "        current = current.next\n",
    "    current.next = nd1\n",
    "        "
   ]
  },
  {
   "cell_type": "markdown",
   "id": "8cbb6597-bb9f-40a8-9942-abe0284b77b2",
   "metadata": {},
   "source": [
    "Create a class names 'Mylinkedlist' Which can initialize and insert nodes at the bigining"
   ]
  },
  {
   "cell_type": "code",
   "execution_count": 19,
   "id": "3c0c20bf-fdaf-4ef5-a35e-4c58b34dd83a",
   "metadata": {},
   "outputs": [],
   "source": [
    "class Mylinkedlist:\n",
    "    def __init_(self):\n",
    "        self.head = None\n",
    "    def insert_begining(self,data):\n",
    "        new_nd = Node(data)\n",
    "        new_nd.next = self.head\n",
    "        self.head = new_nd\n",
    "    def insertend(self,data):\n",
    "        nd1 = Node(data)\n",
    "        if self.head == None:\n",
    "            self.head = nd1\n",
    "            return\n",
    "            currrent = self.head\n",
    "        while current.next:\n",
    "            current = current.next\n",
    "        current.next = nd1\n",
    "        \n",
    "    "
   ]
  },
  {
   "cell_type": "code",
   "execution_count": 20,
   "id": "b2c40888-c511-4588-9733-3fec479d2bc3",
   "metadata": {},
   "outputs": [
    {
     "ename": "AttributeError",
     "evalue": "'Mylinkedlist' object has no attribute 'head'",
     "output_type": "error",
     "traceback": [
      "\u001b[1;31m---------------------------------------------------------------------------\u001b[0m",
      "\u001b[1;31mAttributeError\u001b[0m                            Traceback (most recent call last)",
      "Cell \u001b[1;32mIn[20], line 2\u001b[0m\n\u001b[0;32m      1\u001b[0m ll \u001b[38;5;241m=\u001b[39m Mylinkedlist()\n\u001b[1;32m----> 2\u001b[0m ll\u001b[38;5;241m.\u001b[39minsertend(\u001b[38;5;241m45\u001b[39m)\n\u001b[0;32m      3\u001b[0m ll\u001b[38;5;241m.\u001b[39minsert_begining(\u001b[38;5;241m12\u001b[39m)\n",
      "Cell \u001b[1;32mIn[19], line 10\u001b[0m, in \u001b[0;36mMylinkedlist.insertend\u001b[1;34m(self, data)\u001b[0m\n\u001b[0;32m      8\u001b[0m \u001b[38;5;28;01mdef\u001b[39;00m \u001b[38;5;21minsertend\u001b[39m(\u001b[38;5;28mself\u001b[39m,data):\n\u001b[0;32m      9\u001b[0m     nd1 \u001b[38;5;241m=\u001b[39m Node(data)\n\u001b[1;32m---> 10\u001b[0m     \u001b[38;5;28;01mif\u001b[39;00m \u001b[38;5;28mself\u001b[39m\u001b[38;5;241m.\u001b[39mhead \u001b[38;5;241m==\u001b[39m \u001b[38;5;28;01mNone\u001b[39;00m:\n\u001b[0;32m     11\u001b[0m         \u001b[38;5;28mself\u001b[39m\u001b[38;5;241m.\u001b[39mhead \u001b[38;5;241m=\u001b[39m nd1\n\u001b[0;32m     12\u001b[0m         \u001b[38;5;28;01mreturn\u001b[39;00m\n",
      "\u001b[1;31mAttributeError\u001b[0m: 'Mylinkedlist' object has no attribute 'head'"
     ]
    }
   ],
   "source": [
    "ll = Mylinkedlist()\n",
    "ll.insertend(45)\n",
    "ll.insert_begining(12)\n"
   ]
  },
  {
   "cell_type": "code",
   "execution_count": null,
   "id": "0704a1d3-4625-42bb-87ff-87ab8dce810a",
   "metadata": {},
   "outputs": [],
   "source": []
  }
 ],
 "metadata": {
  "kernelspec": {
   "display_name": "Python 3 (ipykernel)",
   "language": "python",
   "name": "python3"
  },
  "language_info": {
   "codemirror_mode": {
    "name": "ipython",
    "version": 3
   },
   "file_extension": ".py",
   "mimetype": "text/x-python",
   "name": "python",
   "nbconvert_exporter": "python",
   "pygments_lexer": "ipython3",
   "version": "3.11.7"
  }
 },
 "nbformat": 4,
 "nbformat_minor": 5
}
