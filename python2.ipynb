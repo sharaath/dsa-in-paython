{
 "cells": [
  {
   "cell_type": "code",
   "execution_count": 73,
   "id": "937ab08e-0249-489d-a8a1-f934ac7b7392",
   "metadata": {},
   "outputs": [],
   "source": [
    "class stack:\n",
    "    def __init__(self):\n",
    "        self.stack=[]\n",
    "    def push(self,item):\n",
    "        self.stack.append(item)\n",
    "        return self.stack\n",
    "    def pop(self):\n",
    "        if not self.is_empty()\n",
    "\n",
    "            return self.stack.pop()\n",
    "        else:\n",
    "            return \"stack is empty\"\n",
    "    def peek(self):\n",
    "        if not self.is_empty():\n",
    "            return self.stack[-1]\n",
    "        else:\n",
    "            return \"stack is empty\"\n",
    "    def is_empty(self):\n",
    "        return len(self.stack)==0\n",
    "    def size(self):\n",
    "        return len(self.stack)\n",
    "    "
   ]
  },
  {
   "cell_type": "code",
   "execution_count": 74,
   "id": "4c6509ff-a122-4c14-8bcf-a131e1adbb13",
   "metadata": {},
   "outputs": [],
   "source": [
    "p=stack()"
   ]
  },
  {
   "cell_type": "code",
   "execution_count": 75,
   "id": "d645a6e9-7c6e-4e03-b8b3-d53672d3e8f1",
   "metadata": {},
   "outputs": [
    {
     "data": {
      "text/plain": [
       "[7, 8, 45]"
      ]
     },
     "execution_count": 75,
     "metadata": {},
     "output_type": "execute_result"
    }
   ],
   "source": [
    "p.push(7)\n",
    "p.push(8)\n",
    "p.push(45)"
   ]
  },
  {
   "cell_type": "code",
   "execution_count": 82,
   "id": "abe326cf-6ffd-4529-bbec-c6a6276ffcb4",
   "metadata": {},
   "outputs": [
    {
     "data": {
      "text/plain": [
       "'stack is empty'"
      ]
     },
     "execution_count": 82,
     "metadata": {},
     "output_type": "execute_result"
    }
   ],
   "source": [
    "p.pop()\n",
    "p.pop()\n"
   ]
  },
  {
   "cell_type": "code",
   "execution_count": 76,
   "id": "0fa80dcd-10a3-44ba-b233-8b2903301513",
   "metadata": {},
   "outputs": [
    {
     "data": {
      "text/plain": [
       "3"
      ]
     },
     "execution_count": 76,
     "metadata": {},
     "output_type": "execute_result"
    }
   ],
   "source": [
    "p.size()"
   ]
  },
  {
   "cell_type": "code",
   "execution_count": 77,
   "id": "89a70567-236d-49d9-85b3-72ae55ca8f86",
   "metadata": {},
   "outputs": [
    {
     "data": {
      "text/plain": [
       "False"
      ]
     },
     "execution_count": 77,
     "metadata": {},
     "output_type": "execute_result"
    }
   ],
   "source": [
    "p.is_empty()"
   ]
  },
  {
   "cell_type": "code",
   "execution_count": 81,
   "id": "c5cb730d-6248-43d4-9fce-a3b0ee152841",
   "metadata": {},
   "outputs": [
    {
     "data": {
      "text/plain": [
       "'stack is empty'"
      ]
     },
     "execution_count": 81,
     "metadata": {},
     "output_type": "execute_result"
    }
   ],
   "source": [
    "p.peek()\n",
    "p.peek()"
   ]
  },
  {
   "cell_type": "code",
   "execution_count": 83,
   "id": "25887027-2e28-4112-ad3e-89886effa75d",
   "metadata": {},
   "outputs": [],
   "source": [
    "class solution(object):\n",
    "    def reversestring(self,s):\n",
    "        s[\"happy\"]=a[::-1]"
   ]
  },
  {
   "cell_type": "code",
   "execution_count": 85,
   "id": "c16f0641-664b-49a1-a766-f49b0ae42697",
   "metadata": {},
   "outputs": [
    {
     "name": "stdout",
     "output_type": "stream",
     "text": [
      "yppah\n"
     ]
    }
   ],
   "source": [
    "print(\"yppah\")"
   ]
  },
  {
   "cell_type": "code",
   "execution_count": 86,
   "id": "b5e4febb-86df-44ab-b9ce-8c2568303e3c",
   "metadata": {},
   "outputs": [],
   "source": [
    "a=\"happy\""
   ]
  },
  {
   "cell_type": "code",
   "execution_count": 87,
   "id": "bd0d2036-de43-4137-abdf-c7c6d15f7ff6",
   "metadata": {},
   "outputs": [
    {
     "data": {
      "text/plain": [
       "'h'"
      ]
     },
     "execution_count": 87,
     "metadata": {},
     "output_type": "execute_result"
    }
   ],
   "source": [
    "a[0]"
   ]
  },
  {
   "cell_type": "code",
   "execution_count": 88,
   "id": "f89b9825-1437-4b15-a1ec-a676fc7de328",
   "metadata": {},
   "outputs": [
    {
     "data": {
      "text/plain": [
       "'happ'"
      ]
     },
     "execution_count": 88,
     "metadata": {},
     "output_type": "execute_result"
    }
   ],
   "source": [
    "a[:-1]"
   ]
  },
  {
   "cell_type": "code",
   "execution_count": 89,
   "id": "3c8dc7c4-f5df-47bf-8956-3917da50a1b1",
   "metadata": {},
   "outputs": [
    {
     "data": {
      "text/plain": [
       "'yppah'"
      ]
     },
     "execution_count": 89,
     "metadata": {},
     "output_type": "execute_result"
    }
   ],
   "source": [
    "a[::-1]"
   ]
  },
  {
   "cell_type": "code",
   "execution_count": 90,
   "id": "010ab95c-5882-4bbf-99b6-1ac7460bc91d",
   "metadata": {},
   "outputs": [],
   "source": [
    "b=\"me\""
   ]
  },
  {
   "cell_type": "code",
   "execution_count": 91,
   "id": "c0b77a8f-cf9c-45bc-a70d-75e301168bd6",
   "metadata": {},
   "outputs": [],
   "source": [
    "c=a+b"
   ]
  },
  {
   "cell_type": "code",
   "execution_count": 92,
   "id": "46dc7f23-43e9-4344-aa6f-9a87453d33e0",
   "metadata": {},
   "outputs": [
    {
     "data": {
      "text/plain": [
       "'happyme'"
      ]
     },
     "execution_count": 92,
     "metadata": {},
     "output_type": "execute_result"
    }
   ],
   "source": [
    "c"
   ]
  },
  {
   "cell_type": "code",
   "execution_count": null,
   "id": "ddcf0cca-8305-4f40-9044-fb1ab3afe96d",
   "metadata": {},
   "outputs": [],
   "source": []
  },
  {
   "cell_type": "code",
   "execution_count": null,
   "id": "0e30ffa1-1450-4a94-bc80-93f2f9df2efa",
   "metadata": {},
   "outputs": [],
   "source": []
  }
 ],
 "metadata": {
  "kernelspec": {
   "display_name": "Python 3 (ipykernel)",
   "language": "python",
   "name": "python3"
  },
  "language_info": {
   "codemirror_mode": {
    "name": "ipython",
    "version": 3
   },
   "file_extension": ".py",
   "mimetype": "text/x-python",
   "name": "python",
   "nbconvert_exporter": "python",
   "pygments_lexer": "ipython3",
   "version": "3.11.7"
  }
 },
 "nbformat": 4,
 "nbformat_minor": 5
}
