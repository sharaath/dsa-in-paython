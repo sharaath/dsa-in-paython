{
 "cells": [
  {
   "cell_type": "markdown",
   "id": "99df1901-b3f3-4ae6-98b7-65c670745cee",
   "metadata": {},
   "source": [
    "create a class called 'Myqueue' which can handel 1. Enqueue  2. Dequeue  3.Is empty  4. Display"
   ]
  },
  {
   "cell_type": "code",
   "execution_count": 2,
   "id": "7de5212d-ebd7-47d2-94e3-0969dc21e47d",
   "metadata": {},
   "outputs": [],
   "source": [
    "class Myqueue:\n",
    "    def __init__(self):\n",
    "        self.s1 = []\n",
    "    def enqueue(self,n):\n",
    "        self.s1.append(n)\n",
    "    def dequeue(self):\n",
    "        if not self.is_empty():\n",
    "            return self.s1.pop(0)\n",
    "        else:\n",
    "            return \"s1 is empty\"\n",
    "    def is_empty(self):\n",
    "        return len(self.s1)==0\n",
    "    def display(self):\n",
    "        print(self.s1)"
   ]
  },
  {
   "cell_type": "code",
   "execution_count": 3,
   "id": "620cfd93-1844-43da-95ff-8f64cc148085",
   "metadata": {},
   "outputs": [],
   "source": [
    "ll = Myqueue()\n"
   ]
  },
  {
   "cell_type": "code",
   "execution_count": 5,
   "id": "33399695-623a-4cd1-81ea-b8fe7b999dd9",
   "metadata": {},
   "outputs": [],
   "source": [
    "ll.enqueue(12)"
   ]
  },
  {
   "cell_type": "code",
   "execution_count": 6,
   "id": "50bc43aa-f5f5-4728-b07e-aad917fa69c0",
   "metadata": {},
   "outputs": [],
   "source": [
    "ll.enqueue(18)\n",
    "ll.enqueue(17)\n",
    "ll.enqueue(15)"
   ]
  },
  {
   "cell_type": "code",
   "execution_count": 8,
   "id": "372cc3b3-f4f0-403c-855d-8b62cbb09f51",
   "metadata": {},
   "outputs": [
    {
     "data": {
      "text/plain": [
       "12"
      ]
     },
     "execution_count": 8,
     "metadata": {},
     "output_type": "execute_result"
    }
   ],
   "source": [
    "ll.dequeue()"
   ]
  },
  {
   "cell_type": "code",
   "execution_count": 10,
   "id": "aa03a6dd-853c-49bc-af34-97124b86e0e0",
   "metadata": {},
   "outputs": [
    {
     "data": {
      "text/plain": [
       "False"
      ]
     },
     "execution_count": 10,
     "metadata": {},
     "output_type": "execute_result"
    }
   ],
   "source": [
    "ll.is_empty()"
   ]
  },
  {
   "cell_type": "code",
   "execution_count": 11,
   "id": "32159d2c-d926-4743-bb5c-dc0a67dfe3ae",
   "metadata": {},
   "outputs": [
    {
     "name": "stdout",
     "output_type": "stream",
     "text": [
      "[18, 17, 15]\n"
     ]
    }
   ],
   "source": [
    "ll.display()"
   ]
  },
  {
   "cell_type": "code",
   "execution_count": 50,
   "id": "f45f047e-5758-432f-80e5-9efee055b3ef",
   "metadata": {},
   "outputs": [],
   "source": [
    "def sub(arr):\n",
    "    a1 = []\n",
    "    a2 = []\n",
    "    for i in range(len(arr)):\n",
    "        if i%2==0:\n",
    "            a1.append(arr[i])\n",
    "            a1.sort(reverse=True)\n",
    "            return (\"sorted desc:\",a1)            \n",
    "            print(a1[1])\n",
    "           \n",
    "        else:\n",
    "            a2.append(arr[i])\n",
    "            a2.sort(reverse=False)\n",
    "            return (\"sorted acend:\",a2)\n",
    "            print(a2[1])    \n",
    "           \n",
    "               \n",
    "    return (a1[1]+a2[1])"
   ]
  },
  {
   "cell_type": "code",
   "execution_count": 51,
   "id": "a4014c7d-69bc-4391-8c1a-5b011b87faf0",
   "metadata": {},
   "outputs": [],
   "source": [
    "arr=[4,5,8,7,9,6,9]"
   ]
  },
  {
   "cell_type": "code",
   "execution_count": null,
   "id": "27ef6a8a-0bc3-4d26-833f-d4fa8d80e58f",
   "metadata": {},
   "outputs": [],
   "source": []
  },
  {
   "cell_type": "code",
   "execution_count": null,
   "id": "9daa04ee-1261-4db0-8a7f-9f84039d564f",
   "metadata": {},
   "outputs": [],
   "source": []
  },
  {
   "cell_type": "code",
   "execution_count": null,
   "id": "fd6ab8d5-2fe0-4a32-b150-9f9f1cb04e29",
   "metadata": {},
   "outputs": [],
   "source": []
  }
 ],
 "metadata": {
  "kernelspec": {
   "display_name": "Python 3 (ipykernel)",
   "language": "python",
   "name": "python3"
  },
  "language_info": {
   "codemirror_mode": {
    "name": "ipython",
    "version": 3
   },
   "file_extension": ".py",
   "mimetype": "text/x-python",
   "name": "python",
   "nbconvert_exporter": "python",
   "pygments_lexer": "ipython3",
   "version": "3.11.7"
  }
 },
 "nbformat": 4,
 "nbformat_minor": 5
}
